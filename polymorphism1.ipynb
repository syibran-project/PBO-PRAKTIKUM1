{
  "nbformat": 4,
  "nbformat_minor": 0,
  "metadata": {
    "colab": {
      "provenance": [],
      "authorship_tag": "ABX9TyPGDAbPgFdrXkaWmQYpWmxQ",
      "include_colab_link": true
    },
    "kernelspec": {
      "name": "python3",
      "display_name": "Python 3"
    },
    "language_info": {
      "name": "python"
    }
  },
  "cells": [
    {
      "cell_type": "markdown",
      "metadata": {
        "id": "view-in-github",
        "colab_type": "text"
      },
      "source": [
        "<a href=\"https://colab.research.google.com/github/syibran-project/PBO-PRAKTIKUM1/blob/main/polymorphism1.ipynb\" target=\"_parent\"><img src=\"https://colab.research.google.com/assets/colab-badge.svg\" alt=\"Open In Colab\"/></a>"
      ]
    },
    {
      "cell_type": "code",
      "execution_count": 1,
      "metadata": {
        "colab": {
          "base_uri": "https://localhost:8080/"
        },
        "id": "n8OC-w_rZJ7a",
        "outputId": "b8838526-5673-4e04-b206-f23f1ec54eef"
      },
      "outputs": [
        {
          "output_type": "stream",
          "name": "stdout",
          "text": [
            "Area: 6\n",
            "Area: 78.5\n"
          ]
        }
      ],
      "source": [
        "class Shape:\n",
        "    def area(self):\n",
        "        return \"Undefined\"\n",
        "\n",
        "class Rectangle(Shape):\n",
        "    def __init__(self, length, width):\n",
        "        self.length = length\n",
        "        self.width = width\n",
        "\n",
        "    def area(self):\n",
        "        return self.length * self.width\n",
        "\n",
        "class Circle(Shape):\n",
        "    def __init__(self, radius):\n",
        "        self.radius = radius\n",
        "\n",
        "    def area(self):\n",
        "        return 3.14 * self.radius ** 2\n",
        "\n",
        "shapes = [Rectangle(2, 3), Circle(5)]\n",
        "for shape in shapes:\n",
        "    print(f\"Area: {shape.area()}\")\n",
        ""
      ]
    },
    {
      "cell_type": "code",
      "source": [
        "#buat kelas Bentuk\n",
        "class Bentuk:\n",
        "    def area(self):\n",
        "        return \"Tidak terdefinisi\"\n",
        "\n",
        "#buat subclass PersegiPanjang yang mewarisi kelas Bentuk\n",
        "class PersegiPanjang(Bentuk):\n",
        "    def __init__(self, panjang, lebar):\n",
        "        self.panjang = panjang\n",
        "        self.lebar = lebar\n",
        "\n",
        "    def area(self):\n",
        "        return self.panjang * self.lebar\n",
        "\n",
        "#buat subclass Lingkaran yang mewarisi kelas Bentuk\n",
        "class Lingkaran(Bentuk):\n",
        "    def __init__(self, jari_jari):\n",
        "        self.jari_jari = jari_jari\n",
        "\n",
        "    def area(self):\n",
        "        return 3.14 * self.jari_jari ** 2\n",
        "\n",
        "#buat objek dengan bentuk yang berbeda\n",
        "bentuk_baru = [PersegiPanjang(4, 5), Lingkaran(7)]\n",
        "\n",
        "#ghitung dan mencetak luas setiap bentuk\n",
        "for bentuk in bentuk_baru:\n",
        "    print(f\"Luas: {bentuk.area()}\")\n"
      ],
      "metadata": {
        "colab": {
          "base_uri": "https://localhost:8080/"
        },
        "id": "y9e5aRM3Zf9_",
        "outputId": "dccc1da3-73cd-41c5-ef39-fa74b291a739"
      },
      "execution_count": 7,
      "outputs": [
        {
          "output_type": "stream",
          "name": "stdout",
          "text": [
            "Luas: 20\n",
            "Luas: 153.86\n"
          ]
        }
      ]
    },
    {
      "cell_type": "code",
      "source": [
        "#buat kelas Bentuk\n",
        "class Bentuk:\n",
        "    def area(self):\n",
        "        return \"Luas tidak terdefinisi\"\n",
        "\n",
        "#buat subclass Segitiga yang mewarisi kelas Bentuk\n",
        "class Segitiga(Bentuk):\n",
        "    def __init__(self, alas, tinggi):\n",
        "        self.alas = alas\n",
        "        self.tinggi = tinggi\n",
        "\n",
        "    def area(self):\n",
        "        return 0.5 * self.alas * self.tinggi\n",
        "\n",
        "#buat subclass Trapesium yang mewarisi kelas Bentuk\n",
        "class Trapesium(Bentuk):\n",
        "    def __init__(self, sisi_a, sisi_b, tinggi):\n",
        "        self.sisi_a = sisi_a\n",
        "        self.sisi_b = sisi_b\n",
        "        self.tinggi = tinggi\n",
        "\n",
        "    def area(self):\n",
        "        return 0.5 * (self.sisi_a + self.sisi_b) * self.tinggi\n",
        "\n",
        "#buat objek dengan bentuk yang berbeda\n",
        "bentuk_baru = [Segitiga(6, 8), Trapesium(4, 6, 5)]\n",
        "\n",
        "#hitung dan mencetak luas setiap bentuk\n",
        "for bentuk in bentuk_baru:\n",
        "    print(f\"Luas: {bentuk.area()}\")\n"
      ],
      "metadata": {
        "colab": {
          "base_uri": "https://localhost:8080/"
        },
        "id": "tQ04dRWQab1v",
        "outputId": "26f0bc09-eb30-4640-adb7-d02865574d66"
      },
      "execution_count": 9,
      "outputs": [
        {
          "output_type": "stream",
          "name": "stdout",
          "text": [
            "Luas: 24.0\n",
            "Luas: 25.0\n"
          ]
        }
      ]
    }
  ]
}