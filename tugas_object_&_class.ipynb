{
  "nbformat": 4,
  "nbformat_minor": 0,
  "metadata": {
    "colab": {
      "provenance": [],
      "authorship_tag": "ABX9TyMENache9FZpdUPdjofI7Cn",
      "include_colab_link": true
    },
    "kernelspec": {
      "name": "python3",
      "display_name": "Python 3"
    },
    "language_info": {
      "name": "python"
    }
  },
  "cells": [
    {
      "cell_type": "markdown",
      "metadata": {
        "id": "view-in-github",
        "colab_type": "text"
      },
      "source": [
        "<a href=\"https://colab.research.google.com/github/syibran-project/PBO-PRAKTIKUM1/blob/main/tugas_object_%26_class.ipynb\" target=\"_parent\"><img src=\"https://colab.research.google.com/assets/colab-badge.svg\" alt=\"Open In Colab\"/></a>"
      ]
    },
    {
      "cell_type": "code",
      "execution_count": 61,
      "metadata": {
        "colab": {
          "base_uri": "https://localhost:8080/"
        },
        "id": "wEdEDWycKfCQ",
        "outputId": "1345f434-2000-476b-d9f4-be07865ef013"
      },
      "outputs": [
        {
          "output_type": "stream",
          "name": "stdout",
          "text": [
            "budi details:\n",
            "rambut:  ikal\n",
            "warna rambut:  hitam\n",
            "\n",
            "michael details:\n",
            "rambut:  lurus\n",
            "warna rambut:  pirang\n"
          ]
        }
      ],
      "source": [
        "# class variable\n",
        "class Person:\n",
        "\n",
        "    # the init method or constructor\n",
        "    def __init__(self, rambut, warna):\n",
        "\n",
        "        # instance variable\n",
        "        self.rambut = rambut\n",
        "        self.warna = warna\n",
        "\n",
        "# object\n",
        "budi = Person(\"ikal\", \"hitam\")\n",
        "michael = Person(\"lurus\", \"pirang\")\n",
        "\n",
        "print('budi details:')\n",
        "print('rambut: ', budi.rambut)\n",
        "print('warna rambut: ', budi.warna)\n",
        "\n",
        "print('\\nmichael details:')\n",
        "print('rambut: ', michael.rambut)\n",
        "print('warna rambut: ', michael.warna)\n"
      ]
    }
  ]
}