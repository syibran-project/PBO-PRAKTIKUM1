{
  "nbformat": 4,
  "nbformat_minor": 0,
  "metadata": {
    "colab": {
      "provenance": [],
      "authorship_tag": "ABX9TyPMNVUXwl/N6XOQSp6TbX3B",
      "include_colab_link": true
    },
    "kernelspec": {
      "name": "python3",
      "display_name": "Python 3"
    },
    "language_info": {
      "name": "python"
    }
  },
  "cells": [
    {
      "cell_type": "markdown",
      "metadata": {
        "id": "view-in-github",
        "colab_type": "text"
      },
      "source": [
        "<a href=\"https://colab.research.google.com/github/syibran-project/PBO-PRAKTIKUM1/blob/main/instance_variabel.ipynb\" target=\"_parent\"><img src=\"https://colab.research.google.com/assets/colab-badge.svg\" alt=\"Open In Colab\"/></a>"
      ]
    },
    {
      "cell_type": "code",
      "execution_count": 1,
      "metadata": {
        "colab": {
          "base_uri": "https://localhost:8080/"
        },
        "id": "QYcahUefTv1k",
        "outputId": "a8d44b65-67ab-4caa-b1ba-04a124b462d2"
      },
      "outputs": [
        {
          "output_type": "stream",
          "name": "stdout",
          "text": [
            "Automobile\n",
            "Toyota\n",
            "Civic\n",
            "Corolla\n",
            "Electric Vehicle\n",
            "Electric Vehicle\n"
          ]
        }
      ],
      "source": [
        "class Car:\n",
        "    # Class variable\n",
        "    vehicle_type = \"Automobile\"\n",
        "\n",
        "    def __init__(self, make, model, year):\n",
        "        # Instance variables\n",
        "        self.make = make\n",
        "        self.model = model\n",
        "        self.year = year\n",
        "\n",
        "# Create objects\n",
        "car1 = Car(\"Toyota\", \"Camry\", 2020)\n",
        "car2 = Car(\"Honda\", \"Civic\", 2021)\n",
        "\n",
        "# Access class and instance variables\n",
        "print(car1.vehicle_type)  # (Class variable)\n",
        "print(car1.make)          # (Instance variable)\n",
        "print(car2.model)         # (Instance variable)\n",
        "\n",
        "# Modify instance variables\n",
        "car1.model = \"Corolla\"\n",
        "print(car1.model)         # (Updated instance variable)\n",
        "\n",
        "# Modify class variable\n",
        "Car.vehicle_type = \"Electric Vehicle\"\n",
        "print(car1.vehicle_type)  # (Updated class variable)\n",
        "print(car2.vehicle_type)  # (Updated class variable)\n"
      ]
    },
    {
      "cell_type": "code",
      "source": [
        "class Dog:\n",
        "    # Class variable\n",
        "    species = \"Canine\"\n",
        "\n",
        "    def __init__(self, name, age):\n",
        "        # Instance variables\n",
        "        self.name = name\n",
        "        self.age = age\n",
        "\n",
        "# Create objects\n",
        "dog1 = Dog(\"Buddy\", 3)\n",
        "dog2 = Dog(\"Charlie\", 5)\n",
        "\n",
        "# Access class and instance variables\n",
        "print(dog1.species)  # (Class variable)\n",
        "print(dog1.name)     # (Instance variable)\n",
        "print(dog2.name)     # (Instance variable)\n",
        "\n",
        "# Modify instance variables\n",
        "dog1.name = \"Max\"\n",
        "print(dog1.name)     # (Updated instance variable)\n",
        "\n",
        "# Modify class variable\n",
        "Dog.species = \"Feline\"\n",
        "print(dog1.species)  # (Updated class variable)\n",
        "print(dog2.species)"
      ],
      "metadata": {
        "colab": {
          "base_uri": "https://localhost:8080/"
        },
        "id": "5E9siqutUA-q",
        "outputId": "946e7200-52ad-4117-eecd-7df23dba6311"
      },
      "execution_count": 2,
      "outputs": [
        {
          "output_type": "stream",
          "name": "stdout",
          "text": [
            "Canine\n",
            "Buddy\n",
            "Charlie\n",
            "Max\n",
            "Feline\n",
            "Feline\n"
          ]
        }
      ]
    }
  ]
}