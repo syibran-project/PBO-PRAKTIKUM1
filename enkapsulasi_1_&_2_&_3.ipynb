{
  "nbformat": 4,
  "nbformat_minor": 0,
  "metadata": {
    "colab": {
      "provenance": [],
      "authorship_tag": "ABX9TyO2IlqX4gH/jfAHuWUnutNV",
      "include_colab_link": true
    },
    "kernelspec": {
      "name": "python3",
      "display_name": "Python 3"
    },
    "language_info": {
      "name": "python"
    }
  },
  "cells": [
    {
      "cell_type": "markdown",
      "metadata": {
        "id": "view-in-github",
        "colab_type": "text"
      },
      "source": [
        "<a href=\"https://colab.research.google.com/github/syibran-project/PBO-PRAKTIKUM1/blob/main/enkapsulasi_1_%26_2_%26_3.ipynb\" target=\"_parent\"><img src=\"https://colab.research.google.com/assets/colab-badge.svg\" alt=\"Open In Colab\"/></a>"
      ]
    },
    {
      "cell_type": "code",
      "execution_count": null,
      "metadata": {
        "id": "qa0FQFh9oXWY"
      },
      "outputs": [],
      "source": [
        "# enkapsulasi dengan public access modifier (enkapsulasi 1) (tidak ada tanda apapun dalam variabel dan method)\n",
        "class pegawai:\n",
        "    def __init__(self, nama, salary):\n",
        "        self.nama=nama\n",
        "        self.gaji=salary\n",
        "        self.gaji_final= self.gaji - (0.2 * self.gaji)\n",
        "\n",
        "obj1 = pegawai(\"Agus\", 1000)\n",
        "print(obj1.gaji_final)\n",
        "\n",
        "obj1.gaji_final = 5000\n",
        "print(f\"Gaji final = {obj1.gaji_final}\")"
      ]
    },
    {
      "cell_type": "code",
      "source": [
        "# enkapsulasi dengan public access modifier (enkapsulasi 1)\n",
        "class Barang:\n",
        "    def __init__(self, nama, harga):\n",
        "        self.nama = nama\n",
        "        self.harga = harga\n",
        "        self.harga_diskon = self.harga - (0.15 * self.harga)  # Diskon 15%\n",
        "\n",
        "# Membuat 3 objek barang\n",
        "barang1 = Barang(\"Buku\", 20000)\n",
        "barang2 = Barang(\"Pulpen\", 5000)\n",
        "barang3 = Barang(\"Tas\", 150000)\n",
        "\n",
        "# Menampilkan harga diskon\n",
        "print(barang1.harga_diskon)\n",
        "print(barang2.harga_diskon)\n",
        "print(barang3.harga_diskon)\n",
        "\n",
        "# Mengubah harga_diskon langsung\n",
        "barang1.harga_diskon = 15000\n",
        "print(f\"Harga diskon baru {barang1.nama} = {barang1.harga_diskon}\")\n"
      ],
      "metadata": {
        "id": "iFwgt6Zfr8Hd"
      },
      "execution_count": null,
      "outputs": []
    },
    {
      "cell_type": "code",
      "source": [
        "# enkapsulasi dengan private access modifier (enkapsulasi 2) (terdapat tanda 2 underscore '__' dalam variabel dan method)\n",
        "class pegawai:\n",
        "    def __init__(self, nama, salary):\n",
        "        self.nama=nama\n",
        "        self.gaji=salary\n",
        "        self.__gaji_final= self.gaji - (0.2 * self.gaji)\n",
        "\n",
        "    def showGajiFinal(self):\n",
        "        return self.__gaji_final\n",
        "\n",
        "obj1=pegawai(\"Agus\", 1000)\n",
        "print(obj1.showGajiFinal())\n"
      ],
      "metadata": {
        "id": "Mq2mJjJYodXZ"
      },
      "execution_count": null,
      "outputs": []
    },
    {
      "cell_type": "code",
      "source": [
        "# enkapsulasi dengan private access modifier (enkapsulasi 2)\n",
        "class Produk:\n",
        "    def __init__(self, nama, harga):\n",
        "        self.nama = nama\n",
        "        self.harga = harga\n",
        "        self.__harga_diskon = self.harga - (0.1 * self.harga)  # diskon 10%\n",
        "\n",
        "    def showHargaDiskon(self):\n",
        "        return self.__harga_diskon\n",
        "\n",
        "# Membuat 3 objek produk dengan harga berbeda\n",
        "produk1 = Produk(\"Laptop\", 10000)\n",
        "produk2 = Produk(\"Smartphone\", 5000)\n",
        "produk3 = Produk(\"Headphone\", 1000)\n",
        "\n",
        "# Menampilkan harga setelah diskon\n",
        "print(f\"Harga diskon {produk1.nama}: {produk1.showHargaDiskon()}\")\n",
        "print(f\"Harga diskon {produk2.nama}: {produk2.showHargaDiskon()}\")\n",
        "print(f\"Harga diskon {produk3.nama}: {produk3.showHargaDiskon()}\")\n",
        "\n"
      ],
      "metadata": {
        "id": "nhG5CAogqpjz"
      },
      "execution_count": null,
      "outputs": []
    },
    {
      "cell_type": "code",
      "source": [
        "# enkapsulasi dengan protected access modifier ( enkapsulasi 3) (terdapat tanda 1 underscore '_' dalam variabel dan method)\n",
        "class ayam :\n",
        "  def_init_(self) :\n",
        "    self._age = 5\n",
        "\n",
        "class anakayam :\n",
        "  def display_age(self) :\n",
        "    print(self._age)\n",
        "\n",
        "obj2 = anakayam()\n",
        "obj2.display_age()"
      ],
      "metadata": {
        "id": "0OuK5OPoo7sv"
      },
      "execution_count": null,
      "outputs": []
    },
    {
      "cell_type": "code",
      "source": [
        "# enkapsulasi dengan protected access modifier ( enkapsulasi 3)\n",
        "class Mobil:\n",
        "    def __init__(self):\n",
        "        self._kecepatan = 60  # atribut protected\n",
        "\n",
        "class MobilBalap(Mobil):\n",
        "    def tampilkan_kecepatan(self):\n",
        "        print(f\"Kecepatan mobil balap: {self._kecepatan} km/jam\")\n",
        "\n",
        "obj = MobilBalap()\n",
        "obj.tampilkan_kecepatan()\n",
        "\n"
      ],
      "metadata": {
        "id": "w65LJsumscor"
      },
      "execution_count": null,
      "outputs": []
    },
    {
      "cell_type": "code",
      "source": [
        "#Enkapsulasi adalah konsep dalam pemrograman berorientasi objek yang digunakan untuk membatasi akses ke atribut dan metode dalam sebuah kelas.\n",
        "#Ada tiga tingkat akses yang umum digunakan: public, protected, dan private.\n",
        "#Berikut adalah perbedaan antara ketiganya:\n",
        "\n",
        "\n",
        "\n",
        "#Public, Definisi: Atribut atau metode yang dideklarasikan sebagai public dapat diakses dari mana saja, baik dari dalam kelas itu sendiri, dari subclass, maupun dari luar kelas.\n",
        "#contoh :\n",
        "class Contoh:\n",
        "      def __init__(self):\n",
        "          self.public_attribute = \"Ini public\"\n",
        "\n",
        "  obj = Contoh()\n",
        "  print(obj.public_attribute)  # Dapat diakses dari luar kelas\n",
        "\n",
        "\n",
        "\n",
        "#Protected\n",
        "#Definisi: Atribut atau metode yang dideklarasikan sebagai protected dapat diakses dari dalam kelas itu sendiri dan dari subclass, tetapi tidak dari luar kelas. Dalam Python, atribut protected biasanya diawali dengan satu garis bawah (_).\n",
        "#contoh :\n",
        "  class Contoh:\n",
        "      def __init__(self):\n",
        "          self._protected_attribute = \"Ini protected\"\n",
        "\n",
        "  class SubContoh(Contoh):\n",
        "      def show(self):\n",
        "          print(self._protected_attribute)  # Dapat diakses di subclass\n",
        "\n",
        "  obj = SubContoh()\n",
        "  obj.show()  # Dapat diakses melalui subclass\n",
        "\n",
        "\n",
        "\n",
        "#Private\n",
        "#Definisi: Atribut atau metode yang dideklarasikan sebagai private hanya dapat diakses dari dalam kelas itu sendiri. Dalam Python, atribut private biasanya diawali dengan dua garis bawah (__), yang menyebabkan nama atribut diubah (name mangling) untuk mencegah akses dari luar kelas.\n",
        "#contoh :\n",
        "  class Contoh:\n",
        "      def __init__(self):\n",
        "          self.__private_attribute = \"Ini private\"\n",
        "\n",
        "      def show(self):\n",
        "          print(self.__private_attribute)  # Dapat diakses di dalam kelas\n",
        "\n",
        "  obj = Contoh()\n",
        "  obj.show()  # Dapat diakses melalui metode dalam kelas\n",
        "  # print(obj.__private_attribute)  # Akan menghasilkan error\n",
        "\n",
        "\n",
        ""
      ],
      "metadata": {
        "id": "93LD8Yu2tQsI"
      },
      "execution_count": null,
      "outputs": []
    }
  ]
}