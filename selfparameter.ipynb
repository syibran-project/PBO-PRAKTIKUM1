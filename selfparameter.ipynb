{
  "nbformat": 4,
  "nbformat_minor": 0,
  "metadata": {
    "colab": {
      "provenance": [],
      "authorship_tag": "ABX9TyNCDa0iITmHMUdfa1rGsk8i",
      "include_colab_link": true
    },
    "kernelspec": {
      "name": "python3",
      "display_name": "Python 3"
    },
    "language_info": {
      "name": "python"
    }
  },
  "cells": [
    {
      "cell_type": "markdown",
      "metadata": {
        "id": "view-in-github",
        "colab_type": "text"
      },
      "source": [
        "<a href=\"https://colab.research.google.com/github/syibran-project/PBO-PRAKTIKUM1/blob/main/selfparameter.ipynb\" target=\"_parent\"><img src=\"https://colab.research.google.com/assets/colab-badge.svg\" alt=\"Open In Colab\"/></a>"
      ]
    },
    {
      "cell_type": "code",
      "execution_count": 1,
      "metadata": {
        "colab": {
          "base_uri": "https://localhost:8080/"
        },
        "id": "29lhG0eeaLgx",
        "outputId": "c2b626aa-f591-4002-ad52-79222d1a9525"
      },
      "outputs": [
        {
          "output_type": "stream",
          "name": "stdout",
          "text": [
            "Mimi 2 Feline\n",
            "Luna 4 Feline\n",
            "Feline\n"
          ]
        }
      ],
      "source": [
        "class Kucing:\n",
        "    spesies = \"Feline\"  # Atribut kelas\n",
        "\n",
        "    def __init__(self, nama, umur):\n",
        "        self.nama = nama  # Atribut instance\n",
        "        self.umur = umur  # Atribut instance\n",
        "\n",
        "kucing1 = Kucing(\"Mimi\", 2)  # Membuat instance Kucing\n",
        "kucing2 = Kucing(\"Luna\", 4)  # Membuat instance Kucing lainnya\n",
        "\n",
        "print(kucing1.nama, kucing1.umur, kucing1.spesies)  # Mengakses atribut instance dan kelas\n",
        "print(kucing2.nama, kucing2.umur, kucing2.spesies)  # Mengakses atribut instance dan kelas\n",
        "print(Kucing.spesies)  # Mengakses atribut kelas secara langsung"
      ]
    },
    {
      "cell_type": "code",
      "source": [
        "class Burung:\n",
        "    spesies = \"Avian\"  # Atribut kelas\n",
        "\n",
        "    def __init__(self, nama, umur):\n",
        "        self.nama = nama  # Atribut instance\n",
        "        self.umur = umur  # Atribut instance\n",
        "\n",
        "burung1 = Burung(\"Cici\", 1)  # Membuat instance Burung\n",
        "burung2 = Burung(\"Kiki\", 3)  # Membuat instance Burung lainnya\n",
        "\n",
        "print(burung1.nama, burung1.umur, burung1.spesies)  # Mengakses atribut instance dan kelas\n",
        "print(burung2.nama, burung2.umur, burung2.spesies)  # Mengakses atribut instance dan kelas\n",
        "print(Burung.spesies)  # Mengakses atribut kelas secara langsung"
      ],
      "metadata": {
        "colab": {
          "base_uri": "https://localhost:8080/"
        },
        "id": "QxZJ8QUqaY9Q",
        "outputId": "c26bfe28-4a85-4285-9979-572560728923"
      },
      "execution_count": 2,
      "outputs": [
        {
          "output_type": "stream",
          "name": "stdout",
          "text": [
            "Cici 1 Avian\n",
            "Kiki 3 Avian\n",
            "Avian\n"
          ]
        }
      ]
    }
  ]
}