{
  "nbformat": 4,
  "nbformat_minor": 0,
  "metadata": {
    "colab": {
      "provenance": [],
      "authorship_tag": "ABX9TyOMBihKxPLBxksSOC0vi3gY",
      "include_colab_link": true
    },
    "kernelspec": {
      "name": "python3",
      "display_name": "Python 3"
    },
    "language_info": {
      "name": "python"
    }
  },
  "cells": [
    {
      "cell_type": "markdown",
      "metadata": {
        "id": "view-in-github",
        "colab_type": "text"
      },
      "source": [
        "<a href=\"https://colab.research.google.com/github/syibran-project/PBO-PRAKTIKUM1/blob/main/pewarisan.ipynb\" target=\"_parent\"><img src=\"https://colab.research.google.com/assets/colab-badge.svg\" alt=\"Open In Colab\"/></a>"
      ]
    },
    {
      "cell_type": "code",
      "execution_count": 1,
      "metadata": {
        "colab": {
          "base_uri": "https://localhost:8080/"
        },
        "id": "InwD4hdKZFqB",
        "outputId": "c420d281-82e4-4ff8-db32-ff3947737a47"
      },
      "outputs": [
        {
          "output_type": "stream",
          "name": "stdout",
          "text": [
            "Nilai e: 50\n",
            "Nilai f: 60\n"
          ]
        }
      ],
      "source": [
        "class E:\n",
        "    def __init__(self):\n",
        "        self._e = 0\n",
        "\n",
        "    def setE(self, e):\n",
        "        self._e = e\n",
        "\n",
        "    def getE(self):\n",
        "        return self._e\n",
        "\n",
        "# Mendefinisikan kelas anak\n",
        "class F(E):\n",
        "    def __init__(self):\n",
        "        super().__init__()  # Memanggil konstruktor kelas induk\n",
        "        self._f = 0\n",
        "\n",
        "    def setF(self, f):\n",
        "        self._f = f\n",
        "\n",
        "    def getF(self):\n",
        "        return self._f\n",
        "\n",
        "# Membuat objek\n",
        "objF = F()\n",
        "\n",
        "# Memanggil method milik kelas induk\n",
        "objF.setE(50)\n",
        "print(\"Nilai e: %d\" % objF.getE())\n",
        "\n",
        "# Memanggil method milik dirinya sendiri\n",
        "objF.setF(60)\n",
        "print(\"Nilai f: %d\" % objF.getF())\n",
        "\n",
        "\n"
      ]
    },
    {
      "cell_type": "code",
      "source": [
        "class C:\n",
        "    def __init__(self):\n",
        "        self._c = 0\n",
        "\n",
        "    def setC(self, c):\n",
        "        self._c = c\n",
        "\n",
        "    def getC(self):\n",
        "        return self._c\n",
        "\n",
        "# Mendefinisikan kelas anak\n",
        "class D(C):\n",
        "    def __init__(self):\n",
        "        super().__init__()  # Memanggil konstruktor kelas induk\n",
        "        self._d = 0\n",
        "\n",
        "    def setD(self, d):\n",
        "        self._d = d\n",
        "\n",
        "    def getD(self):\n",
        "        return self._d\n",
        "\n",
        "# Membuat objek\n",
        "objD = D()\n",
        "\n",
        "# Memanggil method milik kelas induk\n",
        "objD.setC(30)\n",
        "print(\"Nilai c: %d\" % objD.getC())\n",
        "\n",
        "# Memanggil method milik dirinya sendiri\n",
        "objD.setD(40)\n",
        "print(\"Nilai d: %d\" % objD.getD())"
      ],
      "metadata": {
        "colab": {
          "base_uri": "https://localhost:8080/"
        },
        "id": "2Hi2OdiaZrkx",
        "outputId": "452adfcd-ad48-4b1d-823b-94727205e878"
      },
      "execution_count": 3,
      "outputs": [
        {
          "output_type": "stream",
          "name": "stdout",
          "text": [
            "Nilai c: 30\n",
            "Nilai d: 40\n"
          ]
        }
      ]
    }
  ]
}