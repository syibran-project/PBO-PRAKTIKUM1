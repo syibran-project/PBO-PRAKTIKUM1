{
  "nbformat": 4,
  "nbformat_minor": 0,
  "metadata": {
    "colab": {
      "provenance": [],
      "authorship_tag": "ABX9TyNH/nRfBr8WzSXDR2gK5mwc",
      "include_colab_link": true
    },
    "kernelspec": {
      "name": "python3",
      "display_name": "Python 3"
    },
    "language_info": {
      "name": "python"
    }
  },
  "cells": [
    {
      "cell_type": "markdown",
      "metadata": {
        "id": "view-in-github",
        "colab_type": "text"
      },
      "source": [
        "<a href=\"https://colab.research.google.com/github/syibran-project/PBO-PRAKTIKUM1/blob/main/pewarisan2.ipynb\" target=\"_parent\"><img src=\"https://colab.research.google.com/assets/colab-badge.svg\" alt=\"Open In Colab\"/></a>"
      ]
    },
    {
      "cell_type": "code",
      "execution_count": 1,
      "metadata": {
        "colab": {
          "base_uri": "https://localhost:8080/"
        },
        "id": "7Fod89O9Wwub",
        "outputId": "f0fdd734-3016-40b9-8418-88385804ead1"
      },
      "outputs": [
        {
          "output_type": "stream",
          "name": "stdout",
          "text": [
            "{'brand': 'Ford', 'model': 'Focus', 'year': 2008, 'number_of_doors': 5, 'number_of_wheels': 4}\n",
            "{'brand': 'Honda', 'model': 'Scoopy', 'year': 2018, 'number_of_wheels': 2}\n",
            "vehicle is starting\n",
            "vehicle is starting\n"
          ]
        }
      ],
      "source": [
        "#make class Vehicle\n",
        "class Vehicle:\n",
        "\tdef __init__(self, brand, model, year):\n",
        "\t\tself.brand = brand\n",
        "\t\tself.model = model\n",
        "\t\tself.year = year\n",
        "\n",
        "#make methods\n",
        "\tdef start(self):\n",
        "\t\tprint(\"vehicle is starting\")\n",
        "\tdef stop(self):\n",
        "\t\tprint(\"vehicle is stopping\")\n",
        "#define sub class and make class Car (inheritance from Vehicle)\n",
        "# the super() to call method __init__() from class Vehicle\n",
        "class Car(Vehicle):\n",
        "\tdef __init__(self, brand, model, year, number_of_doors, number_of_wheels):\n",
        "\t\tsuper().__init__(brand, model, year)\n",
        "\t\tself.number_of_doors= number_of_doors\n",
        "\t\tself.number_of_wheels=number_of_wheels\n",
        "\n",
        "#make class Bike (inheritance from Vehicle)\n",
        "class Bike(Vehicle):\n",
        "\tdef __init__(self, brand, model, year, number_of_wheels):\n",
        "\t\tsuper().__init__(brand, model, year)\n",
        "\t\tself.number_of_wheels=number_of_wheels\n",
        "\n",
        "#make object\n",
        "car = Car(\"Ford\", \"Focus\", 2008, 5, 4)\n",
        "bike = Bike(\"Honda\", \"Scoopy\", 2018, 2)\n",
        "#print attribute dan method\n",
        "print(car.__dict__)\n",
        "print(bike.__dict__)\n",
        "car.start()\n",
        "bike.start()"
      ]
    },
    {
      "cell_type": "code",
      "source": [
        "#buat kelas Vehicle\n",
        "class Vehicle:\n",
        "    def __init__(self, merek, model, tahun):\n",
        "        self.merek = merek\n",
        "        self.model = model\n",
        "        self.tahun = tahun\n",
        "\n",
        "    #buat metode\n",
        "    def start(self):\n",
        "        print(\"kendaraan sedang dinyalakan\")\n",
        "\n",
        "    def stop(self):\n",
        "        print(\"kendaraan sedang dimatikan\")\n",
        "\n",
        "#definisikan subclass dan membuat kelas Car (pewarisan dari Vehicle)\n",
        "class Car(Vehicle):\n",
        "    def __init__(self, merek, model, tahun, jumlah_pintu, jumlah_roda):\n",
        "        super().__init__(merek, model, tahun)\n",
        "        self.jumlah_pintu = jumlah_pintu\n",
        "        self.jumlah_roda = jumlah_roda\n",
        "\n",
        "#Membuat kelas Bike (pewarisan dari Vehicle)\n",
        "class Bike(Vehicle):\n",
        "    def __init__(self, merek, model, tahun, jumlah_roda):\n",
        "        super().__init__(merek, model, tahun)\n",
        "        self.jumlah_roda = jumlah_roda\n",
        "\n",
        "#buat objek\n",
        "mobil = Car(\"Toyota\", \"Avanza\", 2015, 5, 4)\n",
        "sepeda_motor = Bike(\"Yamaha\", \"NMAX\", 2020, 2)\n",
        "\n",
        "#cetak atribut dan metode\n",
        "print(mobil.__dict__)\n",
        "print(sepeda_motor.__dict__)\n",
        "mobil.start()\n",
        "sepeda_motor.start()\n"
      ],
      "metadata": {
        "colab": {
          "base_uri": "https://localhost:8080/"
        },
        "id": "yxl9urFbXMOQ",
        "outputId": "2f8292c5-566d-42ef-ded2-f69069766e30"
      },
      "execution_count": 2,
      "outputs": [
        {
          "output_type": "stream",
          "name": "stdout",
          "text": [
            "{'merek': 'Toyota', 'model': 'Avanza', 'tahun': 2015, 'jumlah_pintu': 5, 'jumlah_roda': 4}\n",
            "{'merek': 'Yamaha', 'model': 'NMAX', 'tahun': 2020, 'jumlah_roda': 2}\n",
            "kendaraan sedang dinyalakan\n",
            "kendaraan sedang dinyalakan\n"
          ]
        }
      ]
    },
    {
      "cell_type": "code",
      "source": [],
      "metadata": {
        "id": "wAlXJ3EnXf3b"
      },
      "execution_count": 3,
      "outputs": []
    }
  ]
}